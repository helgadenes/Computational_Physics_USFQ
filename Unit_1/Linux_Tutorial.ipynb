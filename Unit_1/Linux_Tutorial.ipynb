{
  "nbformat": 4,
  "nbformat_minor": 0,
  "metadata": {
    "colab": {
      "provenance": [],
      "include_colab_link": true
    },
    "kernelspec": {
      "name": "python3",
      "display_name": "Python 3"
    },
    "language_info": {
      "name": "python"
    }
  },
  "cells": [
    {
      "cell_type": "markdown",
      "metadata": {
        "id": "view-in-github",
        "colab_type": "text"
      },
      "source": [
        "<a href=\"https://colab.research.google.com/github/helgadenes/Computational_Physics_USFQ/blob/main/Unit_1/Linux_Tutorial.ipynb\" target=\"_parent\"><img src=\"https://colab.research.google.com/assets/colab-badge.svg\" alt=\"Open In Colab\"/></a>"
      ]
    },
    {
      "cell_type": "markdown",
      "source": [
        "# Linux OS and the need for open source software\n",
        "Author: Wladimir Banda-Barragán"
      ],
      "metadata": {
        "id": "N5zjs7T1v5JM"
      }
    },
    {
      "cell_type": "markdown",
      "source": [
        "## About Linux OS\n",
        "\n",
        "- It is an operating system based on Unix, which was developed by Ken Thompson and Dennis Ritchie (at AT&T Bell Laboratories) during the 60’s/70’s.\n",
        "\n",
        "- Unix was highly portable, so it was adopted, copied, and modified by many companies and universities.\n",
        "\n",
        "- The source code was available, but modification and redistribution were restricted and its commercial version was too expensive.\n",
        "\n",
        "- Finnish student Linus Torvalds decides to create a new free operating system kernel called Linux.\n",
        "\n",
        "- Linux released its first version in 1991.\n",
        "\n",
        "## Advantages of Linux OS\n",
        "\n",
        "- Linux OS are free and open source.\n",
        "\n",
        "- You can modify the source code and adapt it to your applications at will.\n",
        "\n",
        "- Linux provides security (much harder to hack, nearly no viruses).\n",
        "\n",
        "- Linux distributions come with an in-built platform to do programming.\n",
        "\n",
        "- There are two types of desktops: KDE and GNOME.\n",
        "\n",
        "## Flavours of Linux OS\n",
        "\n",
        "- You have many options, the most popular ones in physics are:\n",
        "\n",
        "  - Ubuntu\n",
        "\n",
        "  - Fedora\n",
        "\n",
        "  - Debian\n",
        "\n",
        "  - CentOS\n",
        "\n",
        "- Linux can run on virtual machines / co-exist with other OS.\n",
        "\n",
        "- Linux is installed in (pretty much all) large-scale, high-performance supercomputers.\n",
        "\n",
        "- Linux is the OS of cloud servers (Google Colab).\n",
        "\n",
        "- The backend of GitHub relies heavily on Linux.\n"
      ],
      "metadata": {
        "id": "U-i6PIRVSr8G"
      }
    },
    {
      "cell_type": "markdown",
      "source": [
        "## Linux filesystem:\n",
        "\n",
        "* `/`: The **root directory**. The top of the filesystem hierarchy. All other directories and files branch off from here.\n",
        "\n",
        "* `/bin`: Contains essential **binary** executable programs that are required to boot the system and are used by all users (e.g., `ls`, `cp`, `mv`).\n",
        "\n",
        "* `/sbin`: Contains essential **system binaries** required for system administration (e.g., `fdisk`, `reboot`, `shutdown`). These are typically run by the root user.\n",
        "\n",
        "* `/etc`: The \"etcetera\" directory holds **configuration files** for system-wide services and applications.\n",
        "\n",
        "* `/home`: The primary location for **user home directories**. Each user typically has a subdirectory here (e.g., `/home/wladimir`).\n",
        "\n",
        "* `/var`: Contains **variable data**. Files that change frequently during system operation are stored here, such as log files, mail queues, and spools.\n",
        "\n",
        "* `/tmp`: The **temporary file** directory stores data, which are often deleted on system reboot.\n",
        "\n",
        "* `/usr`: Stands for **User System Resources**. This is a major branch of the filesystem containing most of the user applications and files:\n",
        "\n",
        "    * `/usr/bin`: Contains non-essential user commands.\n",
        "\n",
        "    * `/usr/lib`: Holds shared libraries for the programs in `/usr/bin`.\n",
        "\n",
        "    * `/usr/local`: Used for installing **locally compiled software** to prevent conflicts with the rest of the system.\n",
        "\n",
        "* `/dev`: Contains **device files** that represent physical and virtual devices (e.g., hard drives, terminals, printers).\n",
        "\n",
        "* `/opt`: Used for installing **optional or third-party software** that doesn't follow the standard filesystem hierarchy.\n",
        "\n",
        "* `/proc`: A **virtual filesystem** that contains process information and other kernel state data. Files in this directory are not real files on a disk but are dynamically generated by the kernel.\n",
        "\n",
        "* `/boot`: This directory holds files required to **boot the system**, including the Linux kernel and the GRUB bootloader configuration."
      ],
      "metadata": {
        "id": "OhuRZr0eWEQu"
      }
    },
    {
      "cell_type": "markdown",
      "source": [
        "## Basic Linux OS commands\n",
        "\n",
        "1. man — offline manual, get help about any commands\n",
        "2. which — find out where a command is defined.\n",
        "3. <command> --help — Find help on any command\n",
        "4. cd — Change the current directory (folder)\n",
        "5. ls — List files in a directory\n",
        "6. mkdir — Make/create a new directory\n",
        "7. pwd — Print current directory\n",
        "8. cp — Copy files and directories\n",
        "9. rm — Delete files and directories\n",
        "10. cat file.txt — see contents of file.\n",
        "11. head file.txt — see the first 10 lines of a file\n",
        "12. tail file.txt— see the last 10 lines of a file.\n",
        "13. chmod — change permissions of a file or directory for 3 user groups: user (owner) permission, group permission, and other permission.\n",
        "14. diff file1.txt file2.txt— show differences between two files\n",
        "15. file — show the type of a file\n",
        "16. less — browse the contents of a file, exit with q\n",
        "17. locate — find files with names matching a pattern\n",
        "18. touch — Create a new file or update an existing one\n",
        "19. top — See what is going on, what processes are running, exit with q\n",
        "20. ping server — check to see if a server is alive\n",
        "21. df — show free disk space\n",
        "22. du — show disk space usage\n",
        "23. uname -a — information on Linux kernel\n",
        "24. uptime — how long the system has been running\n",
        "25. date — show current date/time\n",
        "\n",
        "\n",
        "\n",
        "##### References and slides:\n",
        "\n",
        "https://www.greenteapress.com/thinkpython/thinkCSpy/html/chap01.html\n",
        "\n",
        "\n",
        "https://github.com/wbandabarragan/computational-physics-1/blob/main/extra-notes/introduction-linux.pdf"
      ],
      "metadata": {
        "id": "4Kz44zYFTaJl"
      }
    },
    {
      "cell_type": "markdown",
      "source": [
        "## Check where we are:"
      ],
      "metadata": {
        "id": "-dwdmU4lv99s"
      }
    },
    {
      "cell_type": "code",
      "execution_count": null,
      "metadata": {
        "colab": {
          "base_uri": "https://localhost:8080/"
        },
        "id": "voLU13Igvn57",
        "outputId": "9a30f1be-0807-460d-a673-11218d275865"
      },
      "outputs": [
        {
          "output_type": "stream",
          "name": "stdout",
          "text": [
            "/content\n"
          ]
        }
      ],
      "source": [
        "!pwd"
      ]
    },
    {
      "cell_type": "markdown",
      "source": [
        "## Check binaries"
      ],
      "metadata": {
        "id": "iuSS4Oe4po-m"
      }
    },
    {
      "cell_type": "code",
      "source": [
        "!which ls"
      ],
      "metadata": {
        "colab": {
          "base_uri": "https://localhost:8080/"
        },
        "id": "cIBP82gHpr3r",
        "outputId": "17ecb201-20cb-491f-f898-861b08cc770e"
      },
      "execution_count": null,
      "outputs": [
        {
          "output_type": "stream",
          "name": "stdout",
          "text": [
            "/usr/bin/ls\n"
          ]
        }
      ]
    },
    {
      "cell_type": "code",
      "source": [
        "!which python"
      ],
      "metadata": {
        "colab": {
          "base_uri": "https://localhost:8080/"
        },
        "id": "qG1p5PZ0p6Bb",
        "outputId": "127ce733-a1c1-4331-b5d9-914f14f83f1a"
      },
      "execution_count": null,
      "outputs": [
        {
          "output_type": "stream",
          "name": "stdout",
          "text": [
            "/usr/local/bin/python\n"
          ]
        }
      ]
    },
    {
      "cell_type": "markdown",
      "source": [
        "## Check Linux kernel information:"
      ],
      "metadata": {
        "id": "UrpIPRSFwEEo"
      }
    },
    {
      "cell_type": "code",
      "source": [
        "!uname -a"
      ],
      "metadata": {
        "colab": {
          "base_uri": "https://localhost:8080/"
        },
        "id": "5VkwVOaZwBaK",
        "outputId": "b1b2d41a-d401-4165-9fd9-b9860494d787"
      },
      "execution_count": null,
      "outputs": [
        {
          "output_type": "stream",
          "name": "stdout",
          "text": [
            "Linux 7e978ebb45ea 6.1.123+ #1 SMP PREEMPT_DYNAMIC Sun Mar 30 16:01:29 UTC 2025 x86_64 x86_64 x86_64 GNU/Linux\n"
          ]
        }
      ]
    },
    {
      "cell_type": "markdown",
      "source": [
        "## Release version:"
      ],
      "metadata": {
        "id": "ES04v1hewxAz"
      }
    },
    {
      "cell_type": "code",
      "source": [
        "!lsb_release -a"
      ],
      "metadata": {
        "colab": {
          "base_uri": "https://localhost:8080/"
        },
        "id": "JEsIoN8twULu",
        "outputId": "1149f60c-51df-485f-e322-a6d793b47811"
      },
      "execution_count": null,
      "outputs": [
        {
          "output_type": "stream",
          "name": "stdout",
          "text": [
            "No LSB modules are available.\n",
            "Distributor ID:\tUbuntu\n",
            "Description:\tUbuntu 22.04.4 LTS\n",
            "Release:\t22.04\n",
            "Codename:\tjammy\n"
          ]
        }
      ]
    },
    {
      "cell_type": "markdown",
      "source": [
        "## Release version with cat:"
      ],
      "metadata": {
        "id": "dy6iwLdLxIaq"
      }
    },
    {
      "cell_type": "code",
      "source": [
        "!cat /etc/os-release"
      ],
      "metadata": {
        "colab": {
          "base_uri": "https://localhost:8080/"
        },
        "id": "s8QCcVqTw4u8",
        "outputId": "bcb74a66-5ac9-4202-a4c8-cd4671255f63"
      },
      "execution_count": null,
      "outputs": [
        {
          "output_type": "stream",
          "name": "stdout",
          "text": [
            "PRETTY_NAME=\"Ubuntu 22.04.4 LTS\"\n",
            "NAME=\"Ubuntu\"\n",
            "VERSION_ID=\"22.04\"\n",
            "VERSION=\"22.04.4 LTS (Jammy Jellyfish)\"\n",
            "VERSION_CODENAME=jammy\n",
            "ID=ubuntu\n",
            "ID_LIKE=debian\n",
            "HOME_URL=\"https://www.ubuntu.com/\"\n",
            "SUPPORT_URL=\"https://help.ubuntu.com/\"\n",
            "BUG_REPORT_URL=\"https://bugs.launchpad.net/ubuntu/\"\n",
            "PRIVACY_POLICY_URL=\"https://www.ubuntu.com/legal/terms-and-policies/privacy-policy\"\n",
            "UBUNTU_CODENAME=jammy\n"
          ]
        }
      ]
    },
    {
      "cell_type": "markdown",
      "source": [
        "## Disc usage:"
      ],
      "metadata": {
        "id": "Yd-AHJm6zCae"
      }
    },
    {
      "cell_type": "code",
      "source": [
        "!df -h"
      ],
      "metadata": {
        "colab": {
          "base_uri": "https://localhost:8080/"
        },
        "id": "u0pu7S9EyVMQ",
        "outputId": "bcb0528d-c4a2-4c1b-bbeb-542f5469401a"
      },
      "execution_count": null,
      "outputs": [
        {
          "output_type": "stream",
          "name": "stdout",
          "text": [
            "Filesystem      Size  Used Avail Use% Mounted on\n",
            "overlay         108G   39G   69G  37% /\n",
            "tmpfs            64M     0   64M   0% /dev\n",
            "shm             5.8G     0  5.8G   0% /dev/shm\n",
            "/dev/root       2.0G  1.2G  775M  61% /usr/sbin/docker-init\n",
            "tmpfs           6.4G   52K  6.4G   1% /var/colab\n",
            "/dev/sda1        73G   40G   33G  55% /kaggle/input\n",
            "tmpfs           6.4G     0  6.4G   0% /proc/acpi\n",
            "tmpfs           6.4G     0  6.4G   0% /proc/scsi\n",
            "tmpfs           6.4G     0  6.4G   0% /sys/firmware\n"
          ]
        }
      ]
    },
    {
      "cell_type": "markdown",
      "source": [
        "## Linux filesyste with ls:"
      ],
      "metadata": {
        "id": "4A7by3dczoFk"
      }
    },
    {
      "cell_type": "code",
      "source": [
        "!ls -ltr /"
      ],
      "metadata": {
        "colab": {
          "base_uri": "https://localhost:8080/"
        },
        "id": "MnAJwmSQzKBA",
        "outputId": "432b59fd-58c6-4869-b3e3-f70cd76ce670"
      },
      "execution_count": null,
      "outputs": [
        {
          "output_type": "stream",
          "name": "stdout",
          "text": [
            "total 448\n",
            "-r-xr-xr-x   1 root root 346012 Jan  1  2000 python-apt.tar.xz\n",
            "drwxr-xr-x   2 root root   4096 Apr 18  2022 home\n",
            "drwxr-xr-x   2 root root   4096 Apr 18  2022 boot\n",
            "lrwxrwxrwx   1 root root      8 Jun 27  2024 sbin -> usr/sbin\n",
            "lrwxrwxrwx   1 root root     10 Jun 27  2024 libx32 -> usr/libx32\n",
            "lrwxrwxrwx   1 root root      9 Jun 27  2024 lib64 -> usr/lib64\n",
            "lrwxrwxrwx   1 root root      9 Jun 27  2024 lib32 -> usr/lib32\n",
            "lrwxrwxrwx   1 root root      7 Jun 27  2024 lib -> usr/lib\n",
            "lrwxrwxrwx   1 root root      7 Jun 27  2024 bin -> usr/bin\n",
            "drwxr-xr-x   2 root root   4096 Jun 27  2024 srv\n",
            "drwxr-xr-x   2 root root   4096 Jun 27  2024 mnt\n",
            "drwxr-xr-x   2 root root   4096 Jun 27  2024 media\n",
            "-rw-r--r--   1 root root  17294 Jul 10  2024 NGC-DL-CONTAINER-LICENSE\n",
            "-rw-r--r--   1 root root   4332 Jul 10  2024 cuda-keyring_1.1-1_all.deb\n",
            "drwxr-xr-x   1 root root   4096 Aug 19 13:14 run\n",
            "drwxrwxr-x  14 root root   4096 Aug 19 13:20 python-apt\n",
            "drwxr-xr-x   1 root root   4096 Aug 19 13:38 content\n",
            "drwxr-xr-x   1 root root   4096 Aug 19 13:53 tools\n",
            "drwxr-xr-x   1 root root   4096 Aug 19 13:53 datalab\n",
            "drwxr-xr-x   1 root root   4096 Aug 19 13:54 var\n",
            "drwxr-xr-x   1 root root   4096 Aug 19 13:55 usr\n",
            "drwxr-xr-x   1 root root   4096 Aug 19 14:12 opt\n",
            "drwxr-xr-x   1 root root   4096 Aug 20 20:31 etc\n",
            "dr-xr-xr-x  13 root root      0 Aug 20 20:31 sys\n",
            "dr-xr-xr-x 198 root root      0 Aug 20 20:31 proc\n",
            "drwxr-xr-x   3 root root   4096 Aug 20 20:31 kaggle\n",
            "drwxr-xr-x   5 root root    360 Aug 20 20:31 dev\n",
            "drwx------   1 root root   4096 Aug 20 20:31 root\n",
            "drwxrwxrwt   1 root root   4096 Aug 20 20:33 tmp\n"
          ]
        }
      ]
    },
    {
      "cell_type": "markdown",
      "source": [
        "## Mounting GDrive:"
      ],
      "metadata": {
        "id": "uhx9xTFN0Psm"
      }
    },
    {
      "cell_type": "code",
      "source": [
        "# Import Colab tools\n",
        "from google.colab import drive\n",
        "drive.mount('/content/drive')"
      ],
      "metadata": {
        "colab": {
          "base_uri": "https://localhost:8080/"
        },
        "id": "fYBq2nkL0UIJ",
        "outputId": "f99a15c5-96bf-4e46-eb3d-bef8de4c5967"
      },
      "execution_count": null,
      "outputs": [
        {
          "output_type": "stream",
          "name": "stdout",
          "text": [
            "Mounted at /content/drive\n"
          ]
        }
      ]
    },
    {
      "cell_type": "markdown",
      "source": [
        "## Navigating through the filesystem:\n",
        "\n",
        "- ! -> non-persisting wrpapper\n",
        "\n",
        "- % -> persisting"
      ],
      "metadata": {
        "id": "FXXGDLcCjeMB"
      }
    },
    {
      "cell_type": "code",
      "source": [
        "# cd command\n",
        "# Non-=persisting\n",
        "#!cd /content/drive\n",
        "\n",
        "# Perssiting\n",
        "%cd /content/drive\n",
        "!pwd\n"
      ],
      "metadata": {
        "colab": {
          "base_uri": "https://localhost:8080/"
        },
        "id": "wkoEBRIxjdM9",
        "outputId": "82ba5f08-1830-4a82-9979-e8677c7aebf9"
      },
      "execution_count": null,
      "outputs": [
        {
          "output_type": "stream",
          "name": "stdout",
          "text": [
            "/content/drive\n",
            "/content/drive\n"
          ]
        }
      ]
    },
    {
      "cell_type": "code",
      "source": [
        "!ls -ltr"
      ],
      "metadata": {
        "colab": {
          "base_uri": "https://localhost:8080/"
        },
        "id": "mVzITxspkXVj",
        "outputId": "4d60c921-c946-49fc-dc45-1ef9a677d013"
      },
      "execution_count": null,
      "outputs": [
        {
          "output_type": "stream",
          "name": "stdout",
          "text": [
            "total 4\n",
            "drwx------ 2 root root 4096 Aug 20 20:34 MyDrive\n"
          ]
        }
      ]
    },
    {
      "cell_type": "code",
      "source": [
        "%cd MyDrive/\n",
        "!pwd"
      ],
      "metadata": {
        "colab": {
          "base_uri": "https://localhost:8080/"
        },
        "id": "qQKzIwcFll2y",
        "outputId": "aa0a38c8-b0b7-47e7-e325-427ce0047805"
      },
      "execution_count": null,
      "outputs": [
        {
          "output_type": "stream",
          "name": "stdout",
          "text": [
            "/content/drive/MyDrive\n",
            "/content/drive/MyDrive\n"
          ]
        }
      ]
    },
    {
      "cell_type": "code",
      "source": [
        "!ls -ltr *.docx"
      ],
      "metadata": {
        "colab": {
          "base_uri": "https://localhost:8080/"
        },
        "id": "woRAUtc0luK8",
        "outputId": "31ba0c8b-2b10-4f69-9f36-8557971929b2"
      },
      "execution_count": null,
      "outputs": [
        {
          "output_type": "stream",
          "name": "stdout",
          "text": [
            "ls: cannot access '*.docx': No such file or directory\n"
          ]
        }
      ]
    },
    {
      "cell_type": "markdown",
      "source": [
        "## Creating directories:"
      ],
      "metadata": {
        "id": "kPXjoXnfmadN"
      }
    },
    {
      "cell_type": "code",
      "source": [
        "!mkdir CP1_unit1"
      ],
      "metadata": {
        "id": "imuO6RyBmZ6_"
      },
      "execution_count": null,
      "outputs": []
    },
    {
      "cell_type": "code",
      "source": [
        "!ls -ltr CP1_unit1"
      ],
      "metadata": {
        "colab": {
          "base_uri": "https://localhost:8080/"
        },
        "id": "tfb6HhtImtsj",
        "outputId": "fb8e6043-7603-41bb-8530-1d3f3c3a77e8"
      },
      "execution_count": null,
      "outputs": [
        {
          "output_type": "stream",
          "name": "stdout",
          "text": [
            "total 0\n"
          ]
        }
      ]
    },
    {
      "cell_type": "code",
      "source": [
        "%cd CP1_unit1\n",
        "!pwd"
      ],
      "metadata": {
        "colab": {
          "base_uri": "https://localhost:8080/"
        },
        "id": "nss5DFEJnPCS",
        "outputId": "d5d56e08-db67-4530-cff6-82a56d5b3314"
      },
      "execution_count": null,
      "outputs": [
        {
          "output_type": "stream",
          "name": "stdout",
          "text": [
            "/content/drive/MyDrive/CP1_unit1\n",
            "/content/drive/MyDrive/CP1_unit1\n"
          ]
        }
      ]
    },
    {
      "cell_type": "markdown",
      "source": [
        "## Web scrapping File with wget:"
      ],
      "metadata": {
        "id": "TSolSkuO09UX"
      }
    },
    {
      "cell_type": "code",
      "source": [
        "!wget https://raw.githubusercontent.com/wbandabarragan/physics-teaching-data/main/1D-data/books.dat"
      ],
      "metadata": {
        "colab": {
          "base_uri": "https://localhost:8080/"
        },
        "id": "0b0dp0uG2AJ2",
        "outputId": "62183a4b-673a-4b7b-d182-bfcc8bb140b0"
      },
      "execution_count": null,
      "outputs": [
        {
          "output_type": "stream",
          "name": "stdout",
          "text": [
            "--2025-08-20 20:34:16--  https://raw.githubusercontent.com/wbandabarragan/physics-teaching-data/main/1D-data/books.dat\n",
            "Resolving raw.githubusercontent.com (raw.githubusercontent.com)... 185.199.108.133, 185.199.109.133, 185.199.110.133, ...\n",
            "Connecting to raw.githubusercontent.com (raw.githubusercontent.com)|185.199.108.133|:443... connected.\n",
            "HTTP request sent, awaiting response... 200 OK\n",
            "Length: 114 [text/plain]\n",
            "Saving to: ‘books.dat’\n",
            "\n",
            "\rbooks.dat             0%[                    ]       0  --.-KB/s               \rbooks.dat           100%[===================>]     114  --.-KB/s    in 0s      \n",
            "\n",
            "2025-08-20 20:34:17 (2.89 MB/s) - ‘books.dat’ saved [114/114]\n",
            "\n"
          ]
        }
      ]
    },
    {
      "cell_type": "code",
      "source": [
        "!pwd\n"
      ],
      "metadata": {
        "colab": {
          "base_uri": "https://localhost:8080/"
        },
        "id": "sr_1wPd-2Lj9",
        "outputId": "3c3c2479-86b8-4663-86eb-7471026e1219"
      },
      "execution_count": null,
      "outputs": [
        {
          "output_type": "stream",
          "name": "stdout",
          "text": [
            "/content/drive/MyDrive/CP1_unit1\n"
          ]
        }
      ]
    },
    {
      "cell_type": "markdown",
      "source": [
        "## List files:"
      ],
      "metadata": {
        "id": "BdP1BnuBzjIa"
      }
    },
    {
      "cell_type": "code",
      "source": [
        "!ls -ltr *.dat"
      ],
      "metadata": {
        "colab": {
          "base_uri": "https://localhost:8080/"
        },
        "id": "d3ucmfBI2Ztt",
        "outputId": "afd01d54-cee2-484a-9414-6e21996c7984"
      },
      "execution_count": null,
      "outputs": [
        {
          "output_type": "stream",
          "name": "stdout",
          "text": [
            "-rw------- 1 root root 114 Aug 20 20:34 books.dat\n"
          ]
        }
      ]
    },
    {
      "cell_type": "markdown",
      "source": [
        "## Inspect files:"
      ],
      "metadata": {
        "id": "OTKYNHf6oRMP"
      }
    },
    {
      "cell_type": "code",
      "source": [
        "# Full file inspection\n",
        "!cat books.dat"
      ],
      "metadata": {
        "colab": {
          "base_uri": "https://localhost:8080/"
        },
        "id": "BDnVoBj82aZq",
        "outputId": "47fff6c2-e436-4d30-ea81-4abc5c3040f6"
      },
      "execution_count": null,
      "outputs": [
        {
          "output_type": "stream",
          "name": "stdout",
          "text": [
            "N\tPages\tThickness\n",
            "1\t10\t3.0\n",
            "2\t20\t4.5\n",
            "3\t30\t5.5\n",
            "4\t40\t7.0\n",
            "5\t50\t8.0\n",
            "6\t60\t9.0\n",
            "7\t70\t9.5\n",
            "8\t80\t11.1\n",
            "9\t90\t12.0\n",
            "10\t100\t12.9\n",
            "\n"
          ]
        }
      ]
    },
    {
      "cell_type": "code",
      "source": [
        "# Inspect the top of the file (n lines with -n)\n",
        "!head -n 2 books.dat"
      ],
      "metadata": {
        "colab": {
          "base_uri": "https://localhost:8080/"
        },
        "id": "an7QWAYu3AKq",
        "outputId": "5e9f0652-4f05-403f-8b57-6e7db49b5a47"
      },
      "execution_count": null,
      "outputs": [
        {
          "output_type": "stream",
          "name": "stdout",
          "text": [
            "N\tPages\tThickness\n",
            "1\t10\t3.0\n"
          ]
        }
      ]
    },
    {
      "cell_type": "code",
      "source": [
        "# Bottom tof the file (n lines with -n)\n",
        "\n",
        "!tail -n 3 books.dat"
      ],
      "metadata": {
        "colab": {
          "base_uri": "https://localhost:8080/"
        },
        "id": "RGHy1Bu3o8S7",
        "outputId": "51cc718b-7aa0-486d-dff3-0b14646c2fc8"
      },
      "execution_count": null,
      "outputs": [
        {
          "output_type": "stream",
          "name": "stdout",
          "text": [
            "9\t90\t12.0\n",
            "10\t100\t12.9\n",
            "\n"
          ]
        }
      ]
    },
    {
      "cell_type": "markdown",
      "source": [
        "## Copying and moving files"
      ],
      "metadata": {
        "id": "n-yIws3Rqbmh"
      }
    },
    {
      "cell_type": "code",
      "source": [
        "# Cpyting files\n",
        "!cp books.dat books2.dat"
      ],
      "metadata": {
        "id": "uAgCaZRAoif8"
      },
      "execution_count": null,
      "outputs": []
    },
    {
      "cell_type": "code",
      "source": [],
      "metadata": {
        "id": "K2FBLFYhqy22"
      },
      "execution_count": null,
      "outputs": []
    },
    {
      "cell_type": "code",
      "source": [
        "!ls -ltr"
      ],
      "metadata": {
        "colab": {
          "base_uri": "https://localhost:8080/"
        },
        "id": "wdhD4j_Bqmge",
        "outputId": "ea188fdf-626e-48d4-dfbd-2a6505bbd806"
      },
      "execution_count": null,
      "outputs": [
        {
          "output_type": "stream",
          "name": "stdout",
          "text": [
            "total 1\n",
            "-rw------- 1 root root 114 Aug 20 20:34 books.dat\n",
            "-rw------- 1 root root 114 Aug 20 20:34 books2.dat\n"
          ]
        }
      ]
    },
    {
      "cell_type": "markdown",
      "source": [
        "## Rename file"
      ],
      "metadata": {
        "id": "eWuuLtf4qxvR"
      }
    },
    {
      "cell_type": "code",
      "source": [
        "!mv books2.dat books_v2.dat"
      ],
      "metadata": {
        "id": "7OLqADj-qrUW"
      },
      "execution_count": null,
      "outputs": []
    },
    {
      "cell_type": "code",
      "source": [
        "!ls -ltr"
      ],
      "metadata": {
        "colab": {
          "base_uri": "https://localhost:8080/"
        },
        "id": "xgd4d7Ucq3CR",
        "outputId": "371111fe-d4bb-4646-998d-60b9e31e9b1f"
      },
      "execution_count": null,
      "outputs": [
        {
          "output_type": "stream",
          "name": "stdout",
          "text": [
            "total 1\n",
            "-rw------- 1 root root 114 Aug 20 20:34 books_v2.dat\n",
            "-rw------- 1 root root 114 Aug 20 20:34 books.dat\n"
          ]
        }
      ]
    },
    {
      "cell_type": "markdown",
      "source": [
        "## Adding & removing directories and files:"
      ],
      "metadata": {
        "id": "8yZY0VccrGQN"
      }
    },
    {
      "cell_type": "code",
      "source": [
        "# Create a temporary directory\n",
        "!mkdir tmp"
      ],
      "metadata": {
        "id": "5TU0UgBDq4Yi"
      },
      "execution_count": null,
      "outputs": []
    },
    {
      "cell_type": "code",
      "source": [
        "!ls -ltr"
      ],
      "metadata": {
        "colab": {
          "base_uri": "https://localhost:8080/"
        },
        "id": "QbDF7DUGrSfg",
        "outputId": "fba98ae8-eb35-42c5-ffcc-d071bf6f48b5"
      },
      "execution_count": null,
      "outputs": [
        {
          "output_type": "stream",
          "name": "stdout",
          "text": [
            "total 5\n",
            "-rw------- 1 root root  114 Aug 20 20:34 books_v2.dat\n",
            "-rw------- 1 root root  114 Aug 20 20:34 books.dat\n",
            "drwx------ 2 root root 4096 Aug 20 20:34 tmp\n"
          ]
        }
      ]
    },
    {
      "cell_type": "code",
      "source": [
        "# Move file into that directory\n",
        "!cp books_v2.dat books_v3.dat"
      ],
      "metadata": {
        "id": "6JwE8fJ1rWjB"
      },
      "execution_count": null,
      "outputs": []
    },
    {
      "cell_type": "code",
      "source": [
        "!ls -ltr"
      ],
      "metadata": {
        "colab": {
          "base_uri": "https://localhost:8080/"
        },
        "id": "-Q2sNN3_riS3",
        "outputId": "b2175956-6e49-4c1c-a973-b33904a42abd"
      },
      "execution_count": null,
      "outputs": [
        {
          "output_type": "stream",
          "name": "stdout",
          "text": [
            "total 6\n",
            "-rw------- 1 root root  114 Aug 20 20:34 books_v2.dat\n",
            "-rw------- 1 root root  114 Aug 20 20:34 books.dat\n",
            "drwx------ 2 root root 4096 Aug 20 20:34 tmp\n",
            "-rw------- 1 root root  114 Aug 20 20:34 books_v3.dat\n"
          ]
        }
      ]
    },
    {
      "cell_type": "code",
      "source": [
        "# MOve the file to /tmp\n",
        "!mv books_v3.dat tmp/."
      ],
      "metadata": {
        "id": "DbVzFvD1rjcz"
      },
      "execution_count": null,
      "outputs": []
    },
    {
      "cell_type": "code",
      "source": [
        "!ls -ltr tmp/."
      ],
      "metadata": {
        "colab": {
          "base_uri": "https://localhost:8080/"
        },
        "id": "ouRTm6QyrljV",
        "outputId": "f52177df-b550-47f9-af87-104708747a4d"
      },
      "execution_count": null,
      "outputs": [
        {
          "output_type": "stream",
          "name": "stdout",
          "text": [
            "total 1\n",
            "-rw------- 1 root root 114 Aug 20 20:34 books_v3.dat\n"
          ]
        }
      ]
    },
    {
      "cell_type": "code",
      "source": [
        "!pwd"
      ],
      "metadata": {
        "colab": {
          "base_uri": "https://localhost:8080/"
        },
        "id": "9FbcesHyrsf9",
        "outputId": "80a492df-8925-4ea3-9a83-245954037aa0"
      },
      "execution_count": null,
      "outputs": [
        {
          "output_type": "stream",
          "name": "stdout",
          "text": [
            "/content/drive/MyDrive/CP1_unit1\n"
          ]
        }
      ]
    },
    {
      "cell_type": "code",
      "source": [
        "#Remove the v2 file\n",
        "!rm books_v2.dat"
      ],
      "metadata": {
        "id": "eOV3T2QUr6d6"
      },
      "execution_count": null,
      "outputs": []
    },
    {
      "cell_type": "markdown",
      "source": [
        "## Coping or removing folders:"
      ],
      "metadata": {
        "id": "2BcgiHMrspNI"
      }
    },
    {
      "cell_type": "code",
      "source": [
        "# Cuplicate the folder\n",
        "!cp -r tmp tmp2"
      ],
      "metadata": {
        "id": "sMO99TvPr_7Z"
      },
      "execution_count": null,
      "outputs": []
    },
    {
      "cell_type": "code",
      "source": [
        "!ls -ltr tmp2/"
      ],
      "metadata": {
        "colab": {
          "base_uri": "https://localhost:8080/"
        },
        "id": "aO2QtHSoss6q",
        "outputId": "38826e6f-31fa-42e0-b868-62073979098d"
      },
      "execution_count": null,
      "outputs": [
        {
          "output_type": "stream",
          "name": "stdout",
          "text": [
            "total 1\n",
            "-rw------- 1 root root 114 Aug 20 20:34 books_v3.dat\n"
          ]
        }
      ]
    },
    {
      "cell_type": "code",
      "source": [
        "# Very carefully we remove the folder\n",
        "#!rm tmp2 # rm: cannot remove 'tmp2': Is a directory\n",
        "\n",
        "!rm -r tmp2"
      ],
      "metadata": {
        "id": "vQAuBCxFs3IJ"
      },
      "execution_count": null,
      "outputs": []
    },
    {
      "cell_type": "code",
      "source": [
        "!ls -ltr"
      ],
      "metadata": {
        "colab": {
          "base_uri": "https://localhost:8080/"
        },
        "id": "Nd2Y4xwttXui",
        "outputId": "d6a383c5-43ee-4bfb-eaef-05b4959a9847"
      },
      "execution_count": null,
      "outputs": [
        {
          "output_type": "stream",
          "name": "stdout",
          "text": [
            "total 5\n",
            "-rw------- 1 root root  114 Aug 20 20:34 books.dat\n",
            "drwx------ 2 root root 4096 Aug 20 20:34 tmp\n"
          ]
        }
      ]
    },
    {
      "cell_type": "markdown",
      "source": [
        "## Compare files:"
      ],
      "metadata": {
        "id": "6QKP-O1Qv3DR"
      }
    },
    {
      "cell_type": "code",
      "source": [
        "# If you see nothing, that means files are the same\n",
        "\n",
        "!diff books.dat ./tmp/books_v3.dat"
      ],
      "metadata": {
        "id": "Tyag2p1-tgKo"
      },
      "execution_count": null,
      "outputs": []
    },
    {
      "cell_type": "markdown",
      "source": [
        "## File permisions in Linux\n",
        "\n",
        "- Every file and directory in Linux has associated permissions that control who can **read** (r), **write** (w), or **execute** (x) it.\n",
        "\n",
        "- These permissions are assigned to three types of users:\n",
        "\n",
        " - the **user** (file owner, **u**),\n",
        " - the **group** (people working alongside the owner, **g**), and\n",
        " - **others** (everyone else, **o**).\n",
        " - all (user, group, and others, **a**)\n",
        "\n",
        "\n",
        "- To check permisions you can run: ``ls -ltr``\n",
        "\n",
        "### Example:\n"
      ],
      "metadata": {
        "id": "WYcpwH2py7vr"
      }
    },
    {
      "cell_type": "code",
      "source": [
        "!ls -ltr"
      ],
      "metadata": {
        "colab": {
          "base_uri": "https://localhost:8080/"
        },
        "id": "i6Yx8wdQylVq",
        "outputId": "0888e779-e4aa-44e2-89b8-e663acc0ccdb"
      },
      "execution_count": null,
      "outputs": [
        {
          "output_type": "stream",
          "name": "stdout",
          "text": [
            "total 5\n",
            "-rw------- 1 root root  114 Aug 20 20:34 books.dat\n",
            "drwx------ 2 root root 4096 Aug 20 20:34 tmp\n"
          ]
        }
      ]
    },
    {
      "cell_type": "markdown",
      "source": [
        "Here, you can see:\n",
        "\n",
        "```\n",
        "-rw------- 1 root root  114 Aug 18 18:36 books.dat\n",
        "```\n",
        "\n",
        "\n",
        "- The **first character** indicates the file type:\n",
        "    - `-` for a regular file.\n",
        "    - `d` for a directory.\n",
        "    - `l` for a symbolic link.\n",
        "\n",
        "- The **next nine characters** are divided into three sets:\n",
        "\n",
        "    * **User** permissions (characters 2-4): `rw-`\n",
        "\n",
        "    * **Group** permissions (characters 5-7): `---`\n",
        "\n",
        "    * **Others** permissions (characters 8-10): `---`\n",
        "\n",
        "\n",
        "- Each letter within a set represents a specific permission:\n",
        "\n",
        "  - **`r` (read):** Allows viewing the file's contents or listing a directory's contents.\n",
        "  - **`w` (write):** Allows modifying, saving, or deleting the file, or creating/deleting files within a directory.\n",
        "  - **`x` (execute):** Allows running a file as a program or entering a directory.\n",
        "  - A hyphen (`-`) in place of a letter means that permission is not granted.\n"
      ],
      "metadata": {
        "id": "bsoJcBroePkZ"
      }
    },
    {
      "cell_type": "markdown",
      "source": [
        "## Modifying file permisions with ``chmod``\n",
        "\n",
        "- You can modify file permissions using the `chmod` command.\n",
        "\n",
        "- There are two common methods for using `chmod`:\n",
        "\n",
        "### A. Symbolic Method\n",
        "\n",
        "This method uses letters and symbols to add (`+`), remove (`-`), or set (`=`) permissions.\n",
        "\n",
        "- `chmod a+r filename` adds read permission for all (u, g, o).\n",
        "\n",
        "- `chmod u+w filename` adds write permission for the user.\n",
        "\n",
        "- `chmod o-r filename` removes read permission for others.\n",
        "\n",
        "- `chmod g=rw filename` sets group permissions to only read and write.\n",
        "\n",
        "#### Examples (this does not work on Colab, test it on the terminal in your Linux OS):\n",
        "\n",
        "```\n",
        "ls -ltr\n",
        "-rw------- 1 root root  114 Aug 18 18:36 books.dat\n",
        "pwd\n",
        "```\n",
        "\n",
        "### 1. Add read permissions to all:\n",
        "\n",
        "```\n",
        "chmod a+r /content/drive/MyDrive/CP1_unit1/books.dat\n",
        "ls -ltr\n",
        "-rw-r--r-- 1 root root  114 Aug 18 18:36 books.dat\n",
        "```\n",
        "\n",
        "### 2. Add execute permissions to the user:\n",
        "\n",
        "```\n",
        "chmod u+x /content/drive/MyDrive/CP1_unit1/books.dat\n",
        "ls -ltr\n",
        "-rwxr--r-- 1 root root  114 Aug 18 18:37 books.dat\n",
        "```\n",
        "\n",
        "### 3. Remove read permissions to others:\n",
        "\n",
        "```\n",
        "chmod o-r /content/drive/MyDrive/CP1_unit1/books.dat\n",
        "ls -ltr\n",
        "-rwxr----- 1 root root  114 Aug 18 18:38 books.dat\n",
        "```\n",
        "\n",
        "### B. Numeric (Octal) Method\n",
        "\n",
        "- This method uses a three-digit number to represent the permissions for the user, group, and others.\n",
        "\n",
        "- Each digit is a sum of the numeric values for `r` (4), `w` (2), and `x` (1):\n",
        "\n",
        " - `r` (read) = 4\n",
        " - `w` (write) = 2\n",
        " - `x` (execute) = 1\n",
        "\n",
        "- You need to sum the values to set the desired permissions. For example, `rwx` is `4+2+1=7`, `rw-` is `4+2=6`, and `r-x` is `4+1=5`.\n",
        "\n",
        "**Examples:**\n",
        "\n",
        "### 1. Set 754 permissions:\n",
        "\n",
        "```\n",
        "chmod 754 /content/drive/MyDrive/CP1_unit1/books.dat\n",
        "ls -ltr\n",
        "-rwxr-xr-- 1 root root  114 Aug 18 18:42 books.dat\n",
        "```\n",
        "\n",
        "\n",
        "### 2. Set 644 permissions:\n",
        "\n",
        "```\n",
        "chmod 644 /content/drive/MyDrive/CP1_unit1/books.dat\n",
        "ls -ltr\n",
        "-rw-r--r-- 1 root root  114 Aug 18 18:44 books.dat\n",
        "```\n"
      ],
      "metadata": {
        "id": "QBWPsBE7gvmA"
      }
    }
  ]
}